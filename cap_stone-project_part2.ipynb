{
 "cells": [
  {
   "cell_type": "markdown",
   "id": "b4310c75",
   "metadata": {},
   "source": [
    "### continued NoteBook Part1"
   ]
  },
  {
   "cell_type": "code",
   "execution_count": 3,
   "id": "e9c5eac6",
   "metadata": {},
   "outputs": [
    {
     "name": "stdout",
     "output_type": "stream",
     "text": [
      "CPU times: total: 0 ns\n",
      "Wall time: 0 ns\n"
     ]
    }
   ],
   "source": [
    "#import important liberaries \n",
    "import matplotlib.pyplot as plt\n",
    "import matplotlib as mpl\n",
    "from matplotlib import cm\n",
    "import numpy as np\n",
    "import pandas as pd\n",
    "import os\n",
    "%matplotlib inline\n",
    "mpl.rc('axes', labelsize=14)\n",
    "mpl.rc('xtick', labelsize=12)\n",
    "mpl.rc('ytick', labelsize=12)\n",
    "import warnings\n",
    "warnings.filterwarnings('ignore')\n",
    "import os\n",
    "\n",
    "from sklearn import metrics\n",
    "%time\n"
   ]
  },
  {
   "cell_type": "markdown",
   "id": "9d318f5c",
   "metadata": {},
   "source": [
    "All the data preparation and clean up conducted in firts half of note book for this project."
   ]
  },
  {
   "cell_type": "code",
   "execution_count": 4,
   "id": "6aedb707",
   "metadata": {},
   "outputs": [],
   "source": [
    "# loading the file that converted to csv from the first part of the this project.\n",
    "data = pd.read_csv('final_data.csv')"
   ]
  },
  {
   "cell_type": "code",
   "execution_count": 5,
   "id": "292bb9b5",
   "metadata": {},
   "outputs": [
    {
     "data": {
      "text/html": [
       "<div>\n",
       "<style scoped>\n",
       "    .dataframe tbody tr th:only-of-type {\n",
       "        vertical-align: middle;\n",
       "    }\n",
       "\n",
       "    .dataframe tbody tr th {\n",
       "        vertical-align: top;\n",
       "    }\n",
       "\n",
       "    .dataframe thead th {\n",
       "        text-align: right;\n",
       "    }\n",
       "</style>\n",
       "<table border=\"1\" class=\"dataframe\">\n",
       "  <thead>\n",
       "    <tr style=\"text-align: right;\">\n",
       "      <th></th>\n",
       "      <th>job</th>\n",
       "      <th>marital</th>\n",
       "      <th>education</th>\n",
       "      <th>default</th>\n",
       "      <th>housing</th>\n",
       "      <th>loan</th>\n",
       "      <th>contact</th>\n",
       "      <th>month</th>\n",
       "      <th>day_of_week</th>\n",
       "      <th>poutcome</th>\n",
       "      <th>...</th>\n",
       "      <th>age</th>\n",
       "      <th>duration</th>\n",
       "      <th>campaign</th>\n",
       "      <th>pdays</th>\n",
       "      <th>previous</th>\n",
       "      <th>emp.var.rate</th>\n",
       "      <th>cons.price.idx</th>\n",
       "      <th>cons.conf.idx</th>\n",
       "      <th>euribor3m</th>\n",
       "      <th>nr.employed</th>\n",
       "    </tr>\n",
       "  </thead>\n",
       "  <tbody>\n",
       "    <tr>\n",
       "      <th>0</th>\n",
       "      <td>3</td>\n",
       "      <td>1</td>\n",
       "      <td>0</td>\n",
       "      <td>0</td>\n",
       "      <td>0</td>\n",
       "      <td>0</td>\n",
       "      <td>1</td>\n",
       "      <td>6</td>\n",
       "      <td>1</td>\n",
       "      <td>1</td>\n",
       "      <td>...</td>\n",
       "      <td>56</td>\n",
       "      <td>261</td>\n",
       "      <td>1</td>\n",
       "      <td>999</td>\n",
       "      <td>0</td>\n",
       "      <td>1.1</td>\n",
       "      <td>93.994</td>\n",
       "      <td>-36.4</td>\n",
       "      <td>4.857</td>\n",
       "      <td>5191.0</td>\n",
       "    </tr>\n",
       "    <tr>\n",
       "      <th>1</th>\n",
       "      <td>7</td>\n",
       "      <td>1</td>\n",
       "      <td>3</td>\n",
       "      <td>0</td>\n",
       "      <td>0</td>\n",
       "      <td>0</td>\n",
       "      <td>1</td>\n",
       "      <td>6</td>\n",
       "      <td>1</td>\n",
       "      <td>1</td>\n",
       "      <td>...</td>\n",
       "      <td>57</td>\n",
       "      <td>149</td>\n",
       "      <td>1</td>\n",
       "      <td>999</td>\n",
       "      <td>0</td>\n",
       "      <td>1.1</td>\n",
       "      <td>93.994</td>\n",
       "      <td>-36.4</td>\n",
       "      <td>4.857</td>\n",
       "      <td>5191.0</td>\n",
       "    </tr>\n",
       "    <tr>\n",
       "      <th>2</th>\n",
       "      <td>7</td>\n",
       "      <td>1</td>\n",
       "      <td>3</td>\n",
       "      <td>0</td>\n",
       "      <td>1</td>\n",
       "      <td>0</td>\n",
       "      <td>1</td>\n",
       "      <td>6</td>\n",
       "      <td>1</td>\n",
       "      <td>1</td>\n",
       "      <td>...</td>\n",
       "      <td>37</td>\n",
       "      <td>226</td>\n",
       "      <td>1</td>\n",
       "      <td>999</td>\n",
       "      <td>0</td>\n",
       "      <td>1.1</td>\n",
       "      <td>93.994</td>\n",
       "      <td>-36.4</td>\n",
       "      <td>4.857</td>\n",
       "      <td>5191.0</td>\n",
       "    </tr>\n",
       "    <tr>\n",
       "      <th>3</th>\n",
       "      <td>0</td>\n",
       "      <td>1</td>\n",
       "      <td>1</td>\n",
       "      <td>0</td>\n",
       "      <td>0</td>\n",
       "      <td>0</td>\n",
       "      <td>1</td>\n",
       "      <td>6</td>\n",
       "      <td>1</td>\n",
       "      <td>1</td>\n",
       "      <td>...</td>\n",
       "      <td>40</td>\n",
       "      <td>151</td>\n",
       "      <td>1</td>\n",
       "      <td>999</td>\n",
       "      <td>0</td>\n",
       "      <td>1.1</td>\n",
       "      <td>93.994</td>\n",
       "      <td>-36.4</td>\n",
       "      <td>4.857</td>\n",
       "      <td>5191.0</td>\n",
       "    </tr>\n",
       "    <tr>\n",
       "      <th>4</th>\n",
       "      <td>7</td>\n",
       "      <td>1</td>\n",
       "      <td>3</td>\n",
       "      <td>0</td>\n",
       "      <td>0</td>\n",
       "      <td>1</td>\n",
       "      <td>1</td>\n",
       "      <td>6</td>\n",
       "      <td>1</td>\n",
       "      <td>1</td>\n",
       "      <td>...</td>\n",
       "      <td>56</td>\n",
       "      <td>307</td>\n",
       "      <td>1</td>\n",
       "      <td>999</td>\n",
       "      <td>0</td>\n",
       "      <td>1.1</td>\n",
       "      <td>93.994</td>\n",
       "      <td>-36.4</td>\n",
       "      <td>4.857</td>\n",
       "      <td>5191.0</td>\n",
       "    </tr>\n",
       "  </tbody>\n",
       "</table>\n",
       "<p>5 rows × 21 columns</p>\n",
       "</div>"
      ],
      "text/plain": [
       "   job  marital  education  default  housing  loan  contact  month  \\\n",
       "0    3        1          0        0        0     0        1      6   \n",
       "1    7        1          3        0        0     0        1      6   \n",
       "2    7        1          3        0        1     0        1      6   \n",
       "3    0        1          1        0        0     0        1      6   \n",
       "4    7        1          3        0        0     1        1      6   \n",
       "\n",
       "   day_of_week  poutcome  ...  age  duration  campaign  pdays  previous  \\\n",
       "0            1         1  ...   56       261         1    999         0   \n",
       "1            1         1  ...   57       149         1    999         0   \n",
       "2            1         1  ...   37       226         1    999         0   \n",
       "3            1         1  ...   40       151         1    999         0   \n",
       "4            1         1  ...   56       307         1    999         0   \n",
       "\n",
       "   emp.var.rate  cons.price.idx  cons.conf.idx  euribor3m  nr.employed  \n",
       "0           1.1          93.994          -36.4      4.857       5191.0  \n",
       "1           1.1          93.994          -36.4      4.857       5191.0  \n",
       "2           1.1          93.994          -36.4      4.857       5191.0  \n",
       "3           1.1          93.994          -36.4      4.857       5191.0  \n",
       "4           1.1          93.994          -36.4      4.857       5191.0  \n",
       "\n",
       "[5 rows x 21 columns]"
      ]
     },
     "execution_count": 5,
     "metadata": {},
     "output_type": "execute_result"
    }
   ],
   "source": [
    "data.head()"
   ]
  },
  {
   "cell_type": "markdown",
   "id": "a4e66fff",
   "metadata": {},
   "source": [
    "### feature engineering cont....."
   ]
  },
  {
   "cell_type": "code",
   "execution_count": 6,
   "id": "3be6221a",
   "metadata": {},
   "outputs": [
    {
     "data": {
      "text/plain": [
       "0    0.887696\n",
       "1    0.112304\n",
       "Name: y, dtype: float64"
      ]
     },
     "execution_count": 6,
     "metadata": {},
     "output_type": "execute_result"
    }
   ],
   "source": [
    "# checking the balance of the datasets on target variable \"y\"\n",
    "data.y.value_counts(1)"
   ]
  },
  {
   "cell_type": "markdown",
   "id": "0132ef4a",
   "metadata": {},
   "source": [
    "The data is imbalance 89%  and 11%"
   ]
  },
  {
   "cell_type": "markdown",
   "id": "b664afcd",
   "metadata": {},
   "source": [
    "### How to Treat Imbalance Datasets\n",
    "resumple using downsample, SMOTE or upsample sampling techniques, but for this specifiec dataset I will use SMOTE resampling techniques, which is better fit methode for this data set\n",
    "\n",
    "In short SMOTE means Create new synthetic data using the nearest neighbors of the minority observations."
   ]
  },
  {
   "cell_type": "code",
   "execution_count": 7,
   "id": "6a5f3316",
   "metadata": {},
   "outputs": [
    {
     "name": "stdout",
     "output_type": "stream",
     "text": [
      "Original Datasets:       (36130, 20) (36130,)\n",
      "SMOTE sampled dataset: (64100, 20) (64100,)\n"
     ]
    }
   ],
   "source": [
    "# treating imbalance data and see what the shape looks like before and after resampling\n",
    "from sklearn.model_selection import train_test_split\n",
    "X = data.drop(['y'], axis=1).values \n",
    "y= data['y'].values\n",
    "\n",
    "# Data split\n",
    "X_train, X_test, y_train, y_test = train_test_split(X, y,test_size=.2,random_state =42)\n",
    "from sklearn.utils import resample\n",
    "from imblearn.over_sampling import SMOTE\n",
    "sm = SMOTE(random_state = 42)\n",
    "X_train_sm, y_train_sm= sm.fit_resample(X_train, y_train)\n",
    "print('Original Datasets:', '     ', X_train.shape, y_train.shape)\n",
    "print('SMOTE sampled dataset:',X_train_sm.shape, y_train_sm.shape)"
   ]
  },
  {
   "cell_type": "code",
   "execution_count": 8,
   "id": "55b59db7",
   "metadata": {},
   "outputs": [
    {
     "data": {
      "text/plain": [
       "(45163, 20)"
      ]
     },
     "execution_count": 8,
     "metadata": {},
     "output_type": "execute_result"
    }
   ],
   "source": [
    "X.shape"
   ]
  },
  {
   "cell_type": "markdown",
   "id": "a9bc9cd1",
   "metadata": {},
   "source": [
    "Now we have 64100 in both side. SMOTE doesn't repeate the same data instance as oversampling, it just create new data instance to make balance the minority class to the majority class untile it become balanced."
   ]
  },
  {
   "cell_type": "code",
   "execution_count": 9,
   "id": "c8f6e124",
   "metadata": {},
   "outputs": [],
   "source": [
    "#scalling the data\n",
    "from sklearn.preprocessing import StandardScaler\n",
    "scaler = StandardScaler()\n",
    "X_train_scaled = scaler.fit_transform(X_train)\n",
    "X_test_scaled = scaler.fit_transform(X_test)\n",
    "X_train_sm_scaled = scaler.fit_transform(X_train_sm)"
   ]
  },
  {
   "cell_type": "markdown",
   "id": "5a910a91",
   "metadata": {},
   "source": [
    "### Model Training \n",
    "I will train the following classifier models\n",
    "1. Logistic regression\n",
    "2. Decision Tree classifire\n",
    "3. Random Forest classifire\n",
    "4. Gradient Boosting classifier\n",
    "5. XGBoost classifier\n",
    "6. Dummy Classifier"
   ]
  },
  {
   "cell_type": "markdown",
   "id": "d2fb7bc2",
   "metadata": {},
   "source": [
    "### Dummy Classifier\n",
    "Dummy classifier will work as referencing frame."
   ]
  },
  {
   "cell_type": "code",
   "execution_count": 10,
   "id": "72fed3e7",
   "metadata": {},
   "outputs": [
    {
     "name": "stdout",
     "output_type": "stream",
     "text": [
      "              precision    recall  f1-score   support\n",
      "\n",
      "           0       0.89      1.00      0.94      8041\n",
      "           1       0.00      0.00      0.00       992\n",
      "\n",
      "    accuracy                           0.89      9033\n",
      "   macro avg       0.45      0.50      0.47      9033\n",
      "weighted avg       0.79      0.89      0.84      9033\n",
      "\n"
     ]
    }
   ],
   "source": [
    "# creating basline or dummy classifier to compare the model I am going to create\n",
    "# import classifier\n",
    "from sklearn.model_selection import cross_val_score\n",
    "from sklearn.metrics import (classification_report, confusion_matrix, accuracy_score, roc_curve, roc_auc_score, \n",
    "                             f1_score, brier_score_loss, log_loss)\n",
    "from sklearn.dummy import DummyClassifier\n",
    "from sklearn.model_selection import train_test_split\n",
    "\n",
    "# Defines and builds the Dummy classifier\n",
    "clf = DummyClassifier(strategy=\"most_frequent\")\n",
    "models_train= clf.fit(X_train_sm,  y_train_sm)\n",
    "predict= clf.predict(X_train_scaled)\n",
    "# I took classification -report from Sklearn print(classification_report(y_true, y_pred, target_names=target_names))\n",
    "print(classification_report(y_test, clf.predict(X_test_scaled)))\n"
   ]
  },
  {
   "cell_type": "markdown",
   "id": "ec700995",
   "metadata": {},
   "source": [
    "#### The dummy classifier accuracy score is 89% and  it will be taken as betchmark to compare with other algorithms "
   ]
  },
  {
   "cell_type": "markdown",
   "id": "1e062bb6",
   "metadata": {},
   "source": [
    "##### Logistic regression to predict "
   ]
  },
  {
   "cell_type": "markdown",
   "id": "0bac0a47",
   "metadata": {},
   "source": [
    "The accuracy score for logistic regression classifier is pretty much the same in the training and test data sets. It looks like there is no any underfitting or over-fitting in this model and may not require a lot of hyperparameter tunning. "
   ]
  },
  {
   "cell_type": "code",
   "execution_count": 11,
   "id": "eb0ae58b",
   "metadata": {},
   "outputs": [
    {
     "name": "stdout",
     "output_type": "stream",
     "text": [
      "              precision    recall  f1-score   support\n",
      "\n",
      "           0       0.93      0.97      0.95      8041\n",
      "           1       0.66      0.42      0.51       992\n",
      "\n",
      "    accuracy                           0.91      9033\n",
      "   macro avg       0.79      0.70      0.73      9033\n",
      "weighted avg       0.90      0.91      0.90      9033\n",
      "\n"
     ]
    }
   ],
   "source": [
    "from sklearn.linear_model import LogisticRegression\n",
    "lrclf = LogisticRegression(random_state=42)\n",
    "lrclf.fit(X_train_scaled, y_train)\n",
    "pred = lrclf.predict(X_test_scaled)\n",
    "\n",
    "print(classification_report(y_test, lrclf.predict(X_test_scaled)))"
   ]
  },
  {
   "cell_type": "code",
   "execution_count": 12,
   "id": "b4ecb991",
   "metadata": {},
   "outputs": [
    {
     "data": {
      "text/plain": [
       "{'C': 1.0,\n",
       " 'class_weight': None,\n",
       " 'dual': False,\n",
       " 'fit_intercept': True,\n",
       " 'intercept_scaling': 1,\n",
       " 'l1_ratio': None,\n",
       " 'max_iter': 100,\n",
       " 'multi_class': 'auto',\n",
       " 'n_jobs': None,\n",
       " 'penalty': 'l2',\n",
       " 'random_state': 42,\n",
       " 'solver': 'lbfgs',\n",
       " 'tol': 0.0001,\n",
       " 'verbose': 0,\n",
       " 'warm_start': False}"
      ]
     },
     "execution_count": 12,
     "metadata": {},
     "output_type": "execute_result"
    }
   ],
   "source": [
    "lrclf.get_params()"
   ]
  },
  {
   "cell_type": "code",
   "execution_count": 13,
   "id": "196c6778",
   "metadata": {},
   "outputs": [],
   "source": [
    "from sklearn.model_selection import RandomizedSearchCV"
   ]
  },
  {
   "cell_type": "code",
   "execution_count": 12,
   "id": "b770ee1f",
   "metadata": {},
   "outputs": [
    {
     "name": "stdout",
     "output_type": "stream",
     "text": [
      "Fitting 3 folds for each of 10 candidates, totalling 30 fits\n",
      "The best parameters are:  {'solver': 'liblinear', 'penalty': 'l1', 'max_iter': 1000, 'C': 0.018329807108324356}\n"
     ]
    }
   ],
   "source": [
    "from sklearn.model_selection import RandomizedSearchCV\n",
    "param_grid = {\"C\":np.logspace(-3,3,20),\n",
    "              \"penalty\":[\"l2\", \"l1\"],\n",
    "              \"solver\":['liblinear','newton-cg'],\n",
    "              'max_iter': [100, 200, 400, 500, 600, 700, 800, 900, 1000]\n",
    "           }\n",
    "             \n",
    "\n",
    "lrclf_cv = RandomizedSearchCV(LogisticRegression(random_state=42), param_grid, verbose=1, cv=3, n_jobs=-1)\n",
    "lrclf_cv.fit(X_train_scaled, y_train)\n",
    "\n",
    "print(\"The best parameters are: \", lrclf_cv.best_params_)"
   ]
  },
  {
   "cell_type": "code",
   "execution_count": 14,
   "id": "8b2880fe",
   "metadata": {},
   "outputs": [
    {
     "name": "stdout",
     "output_type": "stream",
     "text": [
      "              precision    recall  f1-score   support\n",
      "\n",
      "           0       0.93      0.97      0.95      8041\n",
      "           1       0.65      0.42      0.51       992\n",
      "\n",
      "    accuracy                           0.91      9033\n",
      "   macro avg       0.79      0.69      0.73      9033\n",
      "weighted avg       0.90      0.91      0.90      9033\n",
      "\n"
     ]
    }
   ],
   "source": [
    "lrclf_best = LogisticRegression(solver= 'liblinear', penalty = 'l2', max_iter=700, C = 483.3,random_state=42)\n",
    "lrclf_best.fit(X_train_scaled, y_train)\n",
    "LR_pred= lrclf_best.predict(X_test_scaled)\n",
    "\n",
    "print(classification_report(y_test, lrclf_best.predict(X_test_scaled)))"
   ]
  },
  {
   "cell_type": "code",
   "execution_count": 15,
   "id": "cc6db57a",
   "metadata": {},
   "outputs": [
    {
     "name": "stdout",
     "output_type": "stream",
     "text": [
      "roc_auc_score is:  0.6945476133405009\n"
     ]
    },
    {
     "data": {
      "image/png": "[encoded data removed]",
      "text/plain": [
       "<Figure size 640x480 with 1 Axes>"
      ]
     },
     "metadata": {},
     "output_type": "display_data"
    }
   ],
   "source": [
    "# ROC curve\n",
    "# It has been taken from Sklearn\n",
    "metrics.plot_roc_curve(lrclf_best, X_test_scaled, y_test)\n",
    "print('roc_auc_score is: ', roc_auc_score(y_test, LR_pred))"
   ]
  },
  {
   "cell_type": "markdown",
   "id": "12c1d2dc",
   "metadata": {},
   "source": [
    "The ROC curve looks pretty good and AUC is 93%, which is 93% of the data points are under ROC curve and also the roc curve jumpped quick high which is this model perform well compare to randon selected classifier"
   ]
  },
  {
   "cell_type": "markdown",
   "id": "505b722d",
   "metadata": {},
   "source": [
    "### Decesion Tree"
   ]
  },
  {
   "cell_type": "code",
   "execution_count": 16,
   "id": "0c9a39d7",
   "metadata": {},
   "outputs": [
    {
     "name": "stdout",
     "output_type": "stream",
     "text": [
      "              precision    recall  f1-score   support\n",
      "\n",
      "           0       0.90      0.69      0.78      8041\n",
      "           1       0.13      0.39      0.20       992\n",
      "\n",
      "    accuracy                           0.65      9033\n",
      "   macro avg       0.52      0.54      0.49      9033\n",
      "weighted avg       0.82      0.65      0.71      9033\n",
      "\n"
     ]
    }
   ],
   "source": [
    "from sklearn.tree import DecisionTreeClassifier\n",
    "D_clf = DecisionTreeClassifier(random_state = 42)\n",
    "D_clf.fit(X_train_sm, y_train_sm)\n",
    "pred = clf.predict(X_train_sm)\n",
    "print(classification_report(y_test, D_clf.predict(X_test_scaled)))"
   ]
  },
  {
   "cell_type": "code",
   "execution_count": 39,
   "id": "348fa41a",
   "metadata": {},
   "outputs": [
    {
     "data": {
      "text/plain": [
       "{'ccp_alpha': 0.0,\n",
       " 'class_weight': None,\n",
       " 'criterion': 'gini',\n",
       " 'max_depth': None,\n",
       " 'max_features': None,\n",
       " 'max_leaf_nodes': None,\n",
       " 'min_impurity_decrease': 0.0,\n",
       " 'min_samples_leaf': 1,\n",
       " 'min_samples_split': 2,\n",
       " 'min_weight_fraction_leaf': 0.0,\n",
       " 'random_state': 42,\n",
       " 'splitter': 'best'}"
      ]
     },
     "execution_count": 39,
     "metadata": {},
     "output_type": "execute_result"
    }
   ],
   "source": [
    "clf.get_params()"
   ]
  },
  {
   "cell_type": "code",
   "execution_count": 17,
   "id": "30f41c1e",
   "metadata": {},
   "outputs": [
    {
     "name": "stdout",
     "output_type": "stream",
     "text": [
      "Fitting 3 folds for each of 10 candidates, totalling 30 fits\n",
      "The best parameters are:  {'splitter': 'best', 'min_samples_split': 50, 'min_samples_leaf': 7, 'max_depth': 20, 'criterion': 'gini'}\n"
     ]
    }
   ],
   "source": [
    "param_grid = {'max_depth':np.arange(2,30,2),\n",
    "              'min_samples_split':np.arange(10,200, 5),\n",
    "              'min_samples_leaf':np.arange(2, 40, 5),\n",
    "              'splitter': ['random', 'best'],\n",
    "            \n",
    "              'criterion': ['gini']}\n",
    "\n",
    "clf_cv = RandomizedSearchCV(DecisionTreeClassifier(random_state=42), param_grid, verbose=1, cv=3)\n",
    "clf_cv.fit(X_train_sm, y_train_sm)\n",
    "\n",
    "print(\"The best parameters are: \", clf_cv.best_params_)"
   ]
  },
  {
   "cell_type": "code",
   "execution_count": 17,
   "id": "cc636455",
   "metadata": {},
   "outputs": [
    {
     "name": "stdout",
     "output_type": "stream",
     "text": [
      "              precision    recall  f1-score   support\n",
      "\n",
      "           0       0.95      0.95      0.95      8041\n",
      "           1       0.57      0.57      0.57       992\n",
      "\n",
      "    accuracy                           0.91      9033\n",
      "   macro avg       0.76      0.76      0.76      9033\n",
      "weighted avg       0.91      0.91      0.91      9033\n",
      "\n"
     ]
    }
   ],
   "source": [
    "clf_best = DecisionTreeClassifier(random_state = 42, splitter = 'best', min_samples_split=10,\n",
    "                                 min_samples_leaf=2, max_depth = 28, criterion = 'gini')\n",
    "clf_best.fit(X_train_sm, y_train_sm)\n",
    "dec_pred = clf_best.predict(X_test)\n",
    "\n",
    "print(classification_report(y_test, clf_best.predict(X_test)))\n"
   ]
  },
  {
   "cell_type": "markdown",
   "id": "eff6795e",
   "metadata": {},
   "source": [
    "Accuracy improved from 0.65 to .91, It is not a big difference but stile some improvment. Since I have computing power issues I was not able to use grid search rather I will stick with Random grid search"
   ]
  },
  {
   "cell_type": "code",
   "execution_count": 41,
   "id": "f6f19f32",
   "metadata": {},
   "outputs": [
    {
     "name": "stdout",
     "output_type": "stream",
     "text": [
      "roc_auc_score is:  0.7587242524200569\n"
     ]
    },
    {
     "data": {
      "image/png": "[encoded data removed]",
      "text/plain": [
       "<Figure size 640x480 with 1 Axes>"
      ]
     },
     "metadata": {},
     "output_type": "display_data"
    }
   ],
   "source": [
    "# ROC curve for decision tree\n",
    "metrics.plot_roc_curve(clf_best, X_test, y_test)\n",
    "print('roc_auc_score is: ', roc_auc_score(y_test, dec_pred))"
   ]
  },
  {
   "cell_type": "markdown",
   "id": "36ac61a5",
   "metadata": {},
   "source": [
    "##### Random forest classifier"
   ]
  },
  {
   "cell_type": "code",
   "execution_count": 39,
   "id": "4493db49",
   "metadata": {
    "scrolled": true
   },
   "outputs": [
    {
     "name": "stdout",
     "output_type": "stream",
     "text": [
      "Accuracy on training set:  0.9424577913091614\n",
      "Accuracy on test set 0.3604561053913429\n"
     ]
    }
   ],
   "source": [
    "from sklearn.ensemble import RandomForestClassifier\n",
    "Rand_clf1 = RandomForestClassifier(n_estimators=100, max_depth=10, min_samples_split = 8,random_state=42)\n",
    "Rand_clf1.fit(X_train_scaled, y_train)\n",
    "predict = Rand_clf1.predict(X_test)\n",
    "\n",
    "print(\"Accuracy on training set: \", accuracy_score(y_train, Rand_clf1.predict(X_train_scaled)))\n",
    "print(\"Accuracy on test set\", accuracy_score(y_test, predict))"
   ]
  },
  {
   "cell_type": "markdown",
   "id": "1d2e1dcb",
   "metadata": {},
   "source": [
    "The model accuracy score in the traing data perform way better than in the test data. Probably the may be overfitting and it may require hyperparameter tunning."
   ]
  },
  {
   "cell_type": "code",
   "execution_count": 21,
   "id": "02339647",
   "metadata": {},
   "outputs": [
    {
     "name": "stdout",
     "output_type": "stream",
     "text": [
      "Fitting 3 folds for each of 10 candidates, totalling 30 fits\n",
      "The best parameters are:  {'n_estimators': 730, 'min_samples_split': 55, 'max_depth': 22}\n"
     ]
    }
   ],
   "source": [
    "\n",
    "param_grid = {'max_depth':np.arange(2,30,2),\n",
    "              'min_samples_split':np.arange(10,200, 5),\n",
    "              'n_estimators':np.arange(100,1000,10)}\n",
    "\n",
    "Rand_clf_cv = RandomizedSearchCV(RandomForestClassifier(random_state=42), param_grid, verbose=1, cv=3)\n",
    "Rand_clf_cv.fit(X_train_scaled, y_train)\n",
    "\n",
    "print(\"The best parameters are: \", Rand_clf_cv.best_params_)"
   ]
  },
  {
   "cell_type": "code",
   "execution_count": 22,
   "id": "1a4f7868",
   "metadata": {},
   "outputs": [
    {
     "name": "stdout",
     "output_type": "stream",
     "text": [
      "Fitting 3 folds for each of 10 candidates, totalling 30 fits\n",
      "The best parameters are:  {'n_estimators': 450, 'min_samples_split': 10, 'max_depth': 33}\n"
     ]
    }
   ],
   "source": [
    "param_grid = {'max_depth':np.arange(24,36,1),\n",
    "              'min_samples_split':np.arange(10,20, 2),\n",
    "              'n_estimators':np.arange(200,500,5)}\n",
    "\n",
    "Rand_clf_cv0 = RandomizedSearchCV(RandomForestClassifier(random_state=42), param_grid, verbose=1, cv=3)\n",
    "Rand_clf_cv0.fit(X_train_scaled, y_train)\n",
    "\n",
    "print(\"The best parameters are: \", Rand_clf_cv0.best_params_)"
   ]
  },
  {
   "cell_type": "code",
   "execution_count": 40,
   "id": "866f5b88",
   "metadata": {
    "scrolled": true
   },
   "outputs": [
    {
     "name": "stdout",
     "output_type": "stream",
     "text": [
      "              precision    recall  f1-score   support\n",
      "\n",
      "           0       0.94      0.97      0.95      8041\n",
      "           1       0.66      0.53      0.59       992\n",
      "\n",
      "    accuracy                           0.92      9033\n",
      "   macro avg       0.80      0.75      0.77      9033\n",
      "weighted avg       0.91      0.92      0.91      9033\n",
      "\n"
     ]
    }
   ],
   "source": [
    "Rand_clf = RandomForestClassifier(n_estimators=450, max_depth=33, min_samples_split = 10,random_state=42)\n",
    "Rand_clf.fit(X_train_scaled, y_train)\n",
    "predict = Rand_clf.predict(X_test_scaled)\n",
    "\n",
    "#print(\"Accuracy on training set: \", accuracy_score(y_train, Rand_clf_best.predict(X_train)))\n",
    "#print(\"Accuracy on test set\", accuracy_score(y_test, predict))\n",
    "\n",
    "print(classification_report(y_test, Rand_clf.predict(X_test_scaled)))"
   ]
  },
  {
   "cell_type": "markdown",
   "id": "d2886cda",
   "metadata": {},
   "source": [
    "Random forest classifier accuracy improved to 92% which is a lot better that dummy classifier acuuracy"
   ]
  },
  {
   "cell_type": "code",
   "execution_count": 42,
   "id": "059305d4",
   "metadata": {},
   "outputs": [
    {
     "data": {
      "image/png": "[encoded data removed]",
      "text/plain": [
       "<Figure size 640x480 with 2 Axes>"
      ]
     },
     "metadata": {},
     "output_type": "display_data"
    }
   ],
   "source": [
    "# checking confusion matrics to see how many of them classified correctly and how many of them miss classified\n",
    "\n",
    "# I took this from sklearn (confusion_matrix(y_true, y_pred\n",
    "#https://scikit-learn.org/stable/modules/generated/sklearn.metrics.ConfusionMatrixDisplay.html\n",
    "confusion_matrix = metrics.confusion_matrix(y_test, Rand_clf.predict(X_test_scaled))\n",
    "\n",
    "display = metrics.ConfusionMatrixDisplay(confusion_matrix = confusion_matrix, display_labels = [True, False])\n",
    "\n",
    "display.plot()\n",
    "plt.show()"
   ]
  },
  {
   "cell_type": "markdown",
   "id": "3268819d",
   "metadata": {},
   "source": [
    "Based on the above confusion matrics Random forest algorithm was able to classify 7767 and 529 poits or 8296 points in total correctly and 463 and 274 incorrectly. It looks like it does a great job"
   ]
  },
  {
   "cell_type": "markdown",
   "id": "be090bef",
   "metadata": {},
   "source": [
    "#### Gradient Boosting \n",
    "Three core points\n",
    "1. used to optimize loss function \n",
    "2. weak learner learn from thier mistatke to make prediction or weak learner to make prediction\n",
    "3. an addtive model to add week learners to minimize loss function"
   ]
  },
  {
   "cell_type": "code",
   "execution_count": 22,
   "id": "544b4835",
   "metadata": {
    "scrolled": true
   },
   "outputs": [
    {
     "data": {
      "text/html": [
       "<style>#sk-container-id-1 {color: black;background-color: white;}#sk-container-id-1 pre{padding: 0;}#sk-container-id-1 div.sk-toggleable {background-color: white;}#sk-container-id-1 label.sk-toggleable__label {cursor: pointer;display: block;width: 100%;margin-bottom: 0;padding: 0.3em;box-sizing: border-box;text-align: center;}#sk-container-id-1 label.sk-toggleable__label-arrow:before {content: \"▸\";float: left;margin-right: 0.25em;color: #696969;}#sk-container-id-1 label.sk-toggleable__label-arrow:hover:before {color: black;}#sk-container-id-1 div.sk-estimator:hover label.sk-toggleable__label-arrow:before {color: black;}#sk-container-id-1 div.sk-toggleable__content {max-height: 0;max-width: 0;overflow: hidden;text-align: left;background-color: #f0f8ff;}#sk-container-id-1 div.sk-toggleable__content pre {margin: 0.2em;color: black;border-radius: 0.25em;background-color: #f0f8ff;}#sk-container-id-1 input.sk-toggleable__control:checked~div.sk-toggleable__content {max-height: 200px;max-width: 100%;overflow: auto;}#sk-container-id-1 input.sk-toggleable__control:checked~label.sk-toggleable__label-arrow:before {content: \"▾\";}#sk-container-id-1 div.sk-estimator input.sk-toggleable__control:checked~label.sk-toggleable__label {background-color: #d4ebff;}#sk-container-id-1 div.sk-label input.sk-toggleable__control:checked~label.sk-toggleable__label {background-color: #d4ebff;}#sk-container-id-1 input.sk-hidden--visually {border: 0;clip: rect(1px 1px 1px 1px);clip: rect(1px, 1px, 1px, 1px);height: 1px;margin: -1px;overflow: hidden;padding: 0;position: absolute;width: 1px;}#sk-container-id-1 div.sk-estimator {font-family: monospace;background-color: #f0f8ff;border: 1px dotted black;border-radius: 0.25em;box-sizing: border-box;margin-bottom: 0.5em;}#sk-container-id-1 div.sk-estimator:hover {background-color: #d4ebff;}#sk-container-id-1 div.sk-parallel-item::after {content: \"\";width: 100%;border-bottom: 1px solid gray;flex-grow: 1;}#sk-container-id-1 div.sk-label:hover label.sk-toggleable__label {background-color: #d4ebff;}#sk-container-id-1 div.sk-serial::before {content: \"\";position: absolute;border-left: 1px solid gray;box-sizing: border-box;top: 0;bottom: 0;left: 50%;z-index: 0;}#sk-container-id-1 div.sk-serial {display: flex;flex-direction: column;align-items: center;background-color: white;padding-right: 0.2em;padding-left: 0.2em;position: relative;}#sk-container-id-1 div.sk-item {position: relative;z-index: 1;}#sk-container-id-1 div.sk-parallel {display: flex;align-items: stretch;justify-content: center;background-color: white;position: relative;}#sk-container-id-1 div.sk-item::before, #sk-container-id-1 div.sk-parallel-item::before {content: \"\";position: absolute;border-left: 1px solid gray;box-sizing: border-box;top: 0;bottom: 0;left: 50%;z-index: -1;}#sk-container-id-1 div.sk-parallel-item {display: flex;flex-direction: column;z-index: 1;position: relative;background-color: white;}#sk-container-id-1 div.sk-parallel-item:first-child::after {align-self: flex-end;width: 50%;}#sk-container-id-1 div.sk-parallel-item:last-child::after {align-self: flex-start;width: 50%;}#sk-container-id-1 div.sk-parallel-item:only-child::after {width: 0;}#sk-container-id-1 div.sk-dashed-wrapped {border: 1px dashed gray;margin: 0 0.4em 0.5em 0.4em;box-sizing: border-box;padding-bottom: 0.4em;background-color: white;}#sk-container-id-1 div.sk-label label {font-family: monospace;font-weight: bold;display: inline-block;line-height: 1.2em;}#sk-container-id-1 div.sk-label-container {text-align: center;}#sk-container-id-1 div.sk-container {/* jupyter's `normalize.less` sets `[hidden] { display: none; }` but bootstrap.min.css set `[hidden] { display: none !important; }` so we also need the `!important` here to be able to override the default hidden behavior on the sphinx rendered scikit-learn.org. See: https://github.com/scikit-learn/scikit-learn/issues/21755 */display: inline-block !important;position: relative;}#sk-container-id-1 div.sk-text-repr-fallback {display: none;}</style><div id=\"sk-container-id-1\" class=\"sk-top-container\"><div class=\"sk-text-repr-fallback\"><pre>GradientBoostingClassifier(max_depth=1, n_estimators=50, random_state=42)</pre><b>In a Jupyter environment, please rerun this cell to show the HTML representation or trust the notebook. <br />On GitHub, the HTML representation is unable to render, please try loading this page with nbviewer.org.</b></div><div class=\"sk-container\" hidden><div class=\"sk-item\"><div class=\"sk-estimator sk-toggleable\"><input class=\"sk-toggleable__control sk-hidden--visually\" id=\"sk-estimator-id-1\" type=\"checkbox\" checked><label for=\"sk-estimator-id-1\" class=\"sk-toggleable__label sk-toggleable__label-arrow\">GradientBoostingClassifier</label><div class=\"sk-toggleable__content\"><pre>GradientBoostingClassifier(max_depth=1, n_estimators=50, random_state=42)</pre></div></div></div></div></div>"
      ],
      "text/plain": [
       "GradientBoostingClassifier(max_depth=1, n_estimators=50, random_state=42)"
      ]
     },
     "execution_count": 22,
     "metadata": {},
     "output_type": "execute_result"
    }
   ],
   "source": [
    "from sklearn.ensemble import GradientBoostingClassifier\n",
    "gbclf = GradientBoostingClassifier(max_depth= 1, n_estimators=50, learning_rate=0.1, random_state=42)\n",
    "gbclf.fit(X_train_scaled, y_train)"
   ]
  },
  {
   "cell_type": "code",
   "execution_count": 27,
   "id": "2f51de16",
   "metadata": {},
   "outputs": [
    {
     "name": "stdout",
     "output_type": "stream",
     "text": [
      "Accuracy on training set:  0.9061444782729035\n",
      "Accuracy on test set 0.9066755230820326\n"
     ]
    }
   ],
   "source": [
    "print(\"Accuracy on training set: \", accuracy_score(y_train, gbclf.predict(X_train_scaled)))\n",
    "print(\"Accuracy on test set\", accuracy_score(y_test, gbclf.predict(X_test_scaled)))"
   ]
  },
  {
   "cell_type": "code",
   "execution_count": 15,
   "id": "d94ef93d",
   "metadata": {
    "scrolled": true
   },
   "outputs": [
    {
     "name": "stdout",
     "output_type": "stream",
     "text": [
      "              precision    recall  f1-score   support\n",
      "\n",
      "           0       0.92      0.99      0.95      8041\n",
      "           1       0.70      0.26      0.38       992\n",
      "\n",
      "    accuracy                           0.91      9033\n",
      "   macro avg       0.81      0.62      0.66      9033\n",
      "weighted avg       0.89      0.91      0.89      9033\n",
      "\n"
     ]
    }
   ],
   "source": [
    "# generating classifiers report. I learned it from you tube and found it interesting. \n",
    "from sklearn.metrics import classification_report\n",
    "gbclf.predict(X_test_scaled)\n",
    "print(classification_report(y_test, gbclf.predict(X_test_scaled)))"
   ]
  },
  {
   "cell_type": "code",
   "execution_count": 29,
   "id": "bc7218fe",
   "metadata": {},
   "outputs": [],
   "source": [
    "#gbclf.get_params()"
   ]
  },
  {
   "cell_type": "code",
   "execution_count": 32,
   "id": "9ad7a738",
   "metadata": {},
   "outputs": [
    {
     "name": "stdout",
     "output_type": "stream",
     "text": [
      "Fitting 3 folds for each of 10 candidates, totalling 30 fits\n",
      "Best Parameters: {'n_estimators': 200, 'min_samples_split': 155, 'min_samples_leaf': 17, 'max_depth': 33, 'learning_rate': 0.15000000000000002}\n"
     ]
    }
   ],
   "source": [
    "from sklearn.model_selection import RandomizedSearchCV\n",
    "grid_param = {\n",
    "    'learning_rate':np.arange(0.05,1.0, 0.05),\n",
    "    'max_depth':np.arange(1,40,2),\n",
    "    'n_estimators':np.arange(100,900,100),\n",
    "    'min_samples_split':np.arange(10,200, 5),\n",
    "    'min_samples_leaf':np.arange(2, 40, 5),                              \n",
    "}\n",
    "\n",
    "gbclf_cv = RandomizedSearchCV(gbclf, grid_param, cv = 3, random_state=42, verbose=1)\n",
    "\n",
    "gbclf_cv.fit(X_train_scaled,y_train)\n",
    "\n",
    "print(\"Best Parameters:\",gbclf_cv.best_params_)\n"
   ]
  },
  {
   "cell_type": "code",
   "execution_count": 23,
   "id": "c9b204e7",
   "metadata": {},
   "outputs": [
    {
     "name": "stdout",
     "output_type": "stream",
     "text": [
      "              precision    recall  f1-score   support\n",
      "\n",
      "           0       0.95      0.96      0.95      8041\n",
      "           1       0.61      0.55      0.58       992\n",
      "\n",
      "    accuracy                           0.91      9033\n",
      "   macro avg       0.78      0.75      0.76      9033\n",
      "weighted avg       0.91      0.91      0.91      9033\n",
      "\n"
     ]
    }
   ],
   "source": [
    "gbclf_best = GradientBoostingClassifier(max_depth= 33, n_estimators=200, learning_rate=0.15, min_samples_split=155,\n",
    "                                        min_samples_leaf=17, random_state=42)\n",
    "gbclf_best.fit(X_train_scaled,y_train)\n",
    "grdb_pred = gbclf_best.predict(X_test_scaled)\n",
    "print(classification_report(y_test, gbclf_best.predict(X_test_scaled)))"
   ]
  },
  {
   "cell_type": "code",
   "execution_count": 45,
   "id": "99fab4d6",
   "metadata": {},
   "outputs": [
    {
     "name": "stdout",
     "output_type": "stream",
     "text": [
      "[[7684  357]\n",
      " [ 445  547]]\n"
     ]
    }
   ],
   "source": [
    "print(metrics.confusion_matrix(y_test, gbclf_best.predict(X_test_scaled)))"
   ]
  },
  {
   "cell_type": "code",
   "execution_count": 46,
   "id": "8cf4771b",
   "metadata": {},
   "outputs": [
    {
     "data": {
      "image/png": "[encoded data removed]",
      "text/plain": [
       "<Figure size 640x480 with 2 Axes>"
      ]
     },
     "metadata": {},
     "output_type": "display_data"
    }
   ],
   "source": [
    "# checking confusion matrics to see how many of them classified correctly and how many of them miss classified\n",
    "\n",
    "# I took this from sklearn (confusion_matrix(y_true, y_pred\n",
    "#https://scikit-learn.org/stable/modules/generated/sklearn.metrics.ConfusionMatrixDisplay.html\n",
    "confusion_matrix = metrics.confusion_matrix(y_test, gbclf_best.predict(X_test_scaled))\n",
    "\n",
    "display = metrics.ConfusionMatrixDisplay(confusion_matrix = confusion_matrix, display_labels = [True, False])\n",
    "\n",
    "display.plot()\n",
    "plt.show()"
   ]
  },
  {
   "cell_type": "markdown",
   "id": "b0bf5386",
   "metadata": {},
   "source": [
    "7684 and 547 in total 8231 lables are correctly catagorized but 445 and "
   ]
  },
  {
   "cell_type": "code",
   "execution_count": 9,
   "id": "9f9684e3",
   "metadata": {},
   "outputs": [],
   "source": [
    "\n",
    "from xgboost import XGBClassifier\n",
    "xgb = XGBClassifier()"
   ]
  },
  {
   "cell_type": "code",
   "execution_count": 23,
   "id": "26c2784e",
   "metadata": {},
   "outputs": [],
   "source": [
    "# define parameters those will go in grid search\n",
    "param_grid = {\"max_depth\": np.arange(2, 100,4),\n",
    "              \"max_features\" :np.arange(2,30, 2),\n",
    "              \"min_samples_leaf\" :np.arange(2,100, 4),\n",
    "              \"n_estimators\": np.arange(100,1000,20),\n",
    "              \"learning_rate\":np.arange(0.05,1.0,0.01)}"
   ]
  },
  {
   "cell_type": "code",
   "execution_count": 24,
   "id": "b26fb91d",
   "metadata": {},
   "outputs": [
    {
     "name": "stdout",
     "output_type": "stream",
     "text": [
      "Fitting 3 folds for each of 10 candidates, totalling 30 fits\n",
      "[12:31:52] WARNING: C:\\Windows\\Temp\\abs_557yfx631l\\croots\\recipe\\xgboost-split_1659548953302\\work\\src\\learner.cc:576: \n",
      "Parameters: { \"max_features\", \"min_samples_leaf\" } might not be used.\n",
      "\n",
      "  This could be a false alarm, with some parameters getting used by language bindings but\n",
      "  then being mistakenly passed down to XGBoost core, or some parameter actually being used\n",
      "  but getting flagged wrongly here. Please open an issue if you find any such cases.\n",
      "\n",
      "\n",
      "[12:31:52] WARNING: C:\\Windows\\Temp\\abs_557yfx631l\\croots\\recipe\\xgboost-split_1659548953302\\work\\src\\learner.cc:1115: Starting in XGBoost 1.3.0, the default evaluation metric used with the objective 'binary:logistic' was changed from 'error' to 'logloss'. Explicitly set eval_metric if you'd like to restore the old behavior.\n",
      "Best Parameters: {'n_estimators': 920, 'min_samples_leaf': 38, 'max_features': 24, 'max_depth': 50, 'learning_rate': 0.19}\n"
     ]
    }
   ],
   "source": [
    "#perfom grid search\n",
    "grids_cv = RandomizedSearchCV(xgb, param_grid, cv = 3, verbose=1, n_jobs=-1 )\n",
    "grids_cv.fit(X_train_scaled, y_train)\n",
    "print(\"Best Parameters:\",grids_cv.best_params_)"
   ]
  },
  {
   "cell_type": "code",
   "execution_count": 25,
   "id": "353f153b",
   "metadata": {},
   "outputs": [
    {
     "name": "stdout",
     "output_type": "stream",
     "text": [
      "[12:35:05] WARNING: C:\\Windows\\Temp\\abs_557yfx631l\\croots\\recipe\\xgboost-split_1659548953302\\work\\src\\learner.cc:576: \n",
      "Parameters: { \"max_features\", \"min_samples_leaf\" } might not be used.\n",
      "\n",
      "  This could be a false alarm, with some parameters getting used by language bindings but\n",
      "  then being mistakenly passed down to XGBoost core, or some parameter actually being used\n",
      "  but getting flagged wrongly here. Please open an issue if you find any such cases.\n",
      "\n",
      "\n",
      "[12:35:05] WARNING: C:\\Windows\\Temp\\abs_557yfx631l\\croots\\recipe\\xgboost-split_1659548953302\\work\\src\\learner.cc:1115: Starting in XGBoost 1.3.0, the default evaluation metric used with the objective 'binary:logistic' was changed from 'error' to 'logloss'. Explicitly set eval_metric if you'd like to restore the old behavior.\n",
      "              precision    recall  f1-score   support\n",
      "\n",
      "           0       0.95      0.95      0.95      8041\n",
      "           1       0.60      0.57      0.58       992\n",
      "\n",
      "    accuracy                           0.91      9033\n",
      "   macro avg       0.77      0.76      0.77      9033\n",
      "weighted avg       0.91      0.91      0.91      9033\n",
      "\n"
     ]
    }
   ],
   "source": [
    "xgb_clf_best = XGBClassifier(n_estimators=920, max_depth=50,min_samples_leaf =38 ,\n",
    "                             learning_rate=0.19, max_features= 24, objective='binary:logistic')\n",
    "model = xgb_clf_best.fit(X_train_scaled, y_train)\n",
    "\n",
    "print(classification_report(y_test, xgb_clf_best.predict(X_test_scaled)))\n"
   ]
  },
  {
   "cell_type": "code",
   "execution_count": 26,
   "id": "ff56f6ae",
   "metadata": {},
   "outputs": [
    {
     "data": {
      "image/png": "[encoded data removed]",
      "text/plain": [
       "<Figure size 640x480 with 2 Axes>"
      ]
     },
     "metadata": {},
     "output_type": "display_data"
    }
   ],
   "source": [
    "# checking confusion matrics to see how many of them classified correctly and how many of them miss classified\n",
    "confusion_matrix = metrics.confusion_matrix(y_test, xgb_clf_best.predict(X_test_scaled))\n",
    "\n",
    "display = metrics.ConfusionMatrixDisplay(confusion_matrix = confusion_matrix, display_labels = [True, False])\n",
    "\n",
    "display.plot()\n",
    "plt.show()"
   ]
  },
  {
   "cell_type": "markdown",
   "id": "7cb6d47c",
   "metadata": {},
   "source": [
    "### Conclusion\n",
    "Tabular representation of each models accuracy, precesion and recall "
   ]
  },
  {
   "cell_type": "code",
   "execution_count": 32,
   "id": "7e0dd226",
   "metadata": {},
   "outputs": [
    {
     "name": "stdout",
     "output_type": "stream",
     "text": [
      "Collecting tabulate\n",
      "  Downloading tabulate-0.9.0-py3-none-any.whl (35 kB)\n",
      "Installing collected packages: tabulate\n",
      "Successfully installed tabulate-0.9.0\n",
      "Note: you may need to restart the kernel to use updated packages.\n"
     ]
    }
   ],
   "source": [
    "# installing tabulate\n",
    "pip install tabulate"
   ]
  },
  {
   "cell_type": "code",
   "execution_count": 33,
   "id": "fe6316c2",
   "metadata": {},
   "outputs": [],
   "source": [
    "# import tabulate\n",
    "from tabulate import tabulate"
   ]
  },
  {
   "cell_type": "code",
   "execution_count": 36,
   "id": "24020178",
   "metadata": {},
   "outputs": [
    {
     "name": "stdout",
     "output_type": "stream",
     "text": [
      "Final Results Table\n",
      "  \n",
      "Models                 Accuracy    Precission    Recall\n",
      "-------------------  ----------  ------------  --------\n",
      "Dummy Classifier           0.89          0.79      0.89\n",
      "Decision Tree              0.9           0.9       0.9\n",
      "Random Forest              0.92          0.91      0.92\n",
      "XGBoost                    0.91          0.91      0.91\n",
      "Logistic Regression        0.91          0.9       0.9\n"
     ]
    }
   ],
   "source": [
    "#creating tablular report of the results\n",
    "table = [['Models', 'Accuracy', 'Precission', 'Recall'],\n",
    "        ['Dummy Classifier', '0.89', '0.79', '0.89'],\n",
    "        ['Decision Tree',    '0.90', '0.90', '0.90'],\n",
    "        ['Random Forest', '0.92', '0.91', '0.92'],\n",
    "        ['XGBoost',       '0.91', '0.91', '0.91'],\n",
    "        ['Logistic Regression', '0.91', '0.90', '0.90'],]\n",
    "print('Final Results Table')\n",
    "print('  ')\n",
    "print(tabulate(table, headers = 'firstrow'))"
   ]
  },
  {
   "cell_type": "markdown",
   "id": "3615c1b5",
   "metadata": {},
   "source": [
    "few comments about the project \n",
    "1. my computer's computing power was not enough to do gridsearch as a result I was enforced to us Randemised search and it was not able to improve the accuracy that much \n",
    "2. I was not able to completly removed everysingle unkowns in all catagorical variable \n",
    "\n",
    "Most of the algorithms have pretty much the same accuracy but\n",
    "Random forest performed a bit better that the other classifier algorith when we compare Accuracy, precission and recall, but xgboost also has pretty close to random forest performance and I decided to use confusion matrice in these two models and I found they classify very close numbers of instance correctly and as well as incorrectly but random forest did a better job in a very smal margin. Based this two analysis I will stick with Random forest for my model deployment. "
   ]
  },
  {
   "cell_type": "code",
   "execution_count": 54,
   "id": "9a96e7df",
   "metadata": {},
   "outputs": [
    {
     "data": {
      "text/plain": [
       "array([0], dtype=int64)"
      ]
     },
     "execution_count": 54,
     "metadata": {},
     "output_type": "execute_result"
    }
   ],
   "source": [
    "# testing the final model\n",
    "Rand_clf.predict(X_test_scaled[0].reshape(1, -1))"
   ]
  },
  {
   "cell_type": "markdown",
   "id": "3542c1d5",
   "metadata": {},
   "source": [
    "### pickeling the model file for Deployment\n",
    "The pickle module is used for implementing binary protocols for serializing and de-serializing a Python object structure. Pickling: It is a process where a Python object hierarchy is converted into a byte stream.\n",
    "source: pyhon wikipedia"
   ]
  },
  {
   "cell_type": "code",
   "execution_count": 23,
   "id": "84fb0226",
   "metadata": {},
   "outputs": [],
   "source": [
    "#first option is pickle\n",
    "import pickle"
   ]
  },
  {
   "cell_type": "code",
   "execution_count": 49,
   "id": "1345627a",
   "metadata": {},
   "outputs": [],
   "source": [
    "pickle.dump(Rand_clf, open('Rand_clf.pkl', 'wb'))"
   ]
  },
  {
   "cell_type": "code",
   "execution_count": 50,
   "id": "871e2172",
   "metadata": {},
   "outputs": [
    {
     "data": {
      "text/plain": [
       "array([0], dtype=int64)"
      ]
     },
     "execution_count": 50,
     "metadata": {},
     "output_type": "execute_result"
    }
   ],
   "source": [
    "#file = open(\"Rand_clf.pkl\", \"rb\")\n",
    "\n",
    "#load\n",
    "model= pickle.load( open(\"Rand_clf.pkl\", \"rb\"))\n",
    "\n",
    "#predict\n",
    "prediction = model.predict(X[0].reshape(1, -1))\n",
    "prediction"
   ]
  },
  {
   "cell_type": "code",
   "execution_count": 51,
   "id": "6d77093d",
   "metadata": {},
   "outputs": [],
   "source": [
    "# second option is joblib\n",
    "import joblib"
   ]
  },
  {
   "cell_type": "code",
   "execution_count": 28,
   "id": "f2d3028f",
   "metadata": {},
   "outputs": [
    {
     "data": {
      "text/plain": [
       "['model_save']"
      ]
     },
     "execution_count": 28,
     "metadata": {},
     "output_type": "execute_result"
    }
   ],
   "source": [
    "joblib.dump(Rand_clf, 'model_save')"
   ]
  },
  {
   "cell_type": "code",
   "execution_count": 29,
   "id": "241caaa7",
   "metadata": {},
   "outputs": [],
   "source": [
    "loaded_joblib = joblib.load('model_save')"
   ]
  },
  {
   "cell_type": "code",
   "execution_count": 30,
   "id": "1b659ade",
   "metadata": {},
   "outputs": [
    {
     "data": {
      "text/plain": [
       "array([0], dtype=int64)"
      ]
     },
     "execution_count": 30,
     "metadata": {},
     "output_type": "execute_result"
    }
   ],
   "source": [
    "loaded_joblib.predict(X[0].reshape(1, -1))"
   ]
  },
  {
   "cell_type": "code",
   "execution_count": null,
   "id": "afe298fb",
   "metadata": {},
   "outputs": [],
   "source": []
  },
  {
   "cell_type": "code",
   "execution_count": null,
   "id": "955aeea0",
   "metadata": {},
   "outputs": [],
   "source": []
  }
 ],
 "metadata": {
  "kernelspec": {
   "display_name": "Python 3 (ipykernel)",
   "language": "python",
   "name": "python3"
  },
  "language_info": {
   "codemirror_mode": {
    "name": "ipython",
    "version": 3
   },
   "file_extension": ".py",
   "mimetype": "text/x-python",
   "name": "python",
   "nbconvert_exporter": "python",
   "pygments_lexer": "ipython3",
   "version": "3.10.8"
  }
 },
 "nbformat": 4,
 "nbformat_minor": 5
}
